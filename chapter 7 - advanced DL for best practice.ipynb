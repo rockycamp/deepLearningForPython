{
 "cells": [
  {
   "cell_type": "code",
   "execution_count": 1,
   "metadata": {},
   "outputs": [
    {
     "name": "stderr",
     "output_type": "stream",
     "text": [
      "Using TensorFlow backend.\n"
     ]
    },
    {
     "name": "stdout",
     "output_type": "stream",
     "text": [
      "Downloading data from https://s3.amazonaws.com/text-datasets/imdb.npz\n",
      "17465344/17464789 [==============================] - 89s 5us/step\n"
     ]
    }
   ],
   "source": [
    "# listing 7.7 text-classification model to use with TensorBoard\n",
    "from keras import layers\n",
    "from keras.datasets import imdb\n",
    "from keras.preprocessing import sequence\n",
    "\n",
    "max_features = 2000\n",
    "max_len = 500\n",
    "\n",
    "(x_train, y_train), (x_test, y_test) = imdb.load_data(num_words=max_features)\n",
    "x_train = sequence.pad_sequences(x_train, maxlen=max_len)\n",
    "x_test = sequence.pad_sequences(x_test, maxlen=max_len)\n"
   ]
  },
  {
   "cell_type": "code",
   "execution_count": 4,
   "metadata": {},
   "outputs": [
    {
     "name": "stdout",
     "output_type": "stream",
     "text": [
      "_________________________________________________________________\n",
      "Layer (type)                 Output Shape              Param #   \n",
      "=================================================================\n",
      "embed (Embedding)            (None, 500, 128)          256000    \n",
      "_________________________________________________________________\n",
      "conv1d_3 (Conv1D)            (None, 494, 32)           28704     \n",
      "_________________________________________________________________\n",
      "max_pooling1d_2 (MaxPooling1 (None, 98, 32)            0         \n",
      "_________________________________________________________________\n",
      "conv1d_4 (Conv1D)            (None, 92, 32)            7200      \n",
      "_________________________________________________________________\n",
      "global_max_pooling1d_1 (Glob (None, 32)                0         \n",
      "_________________________________________________________________\n",
      "dense_1 (Dense)              (None, 1)                 33        \n",
      "=================================================================\n",
      "Total params: 291,937\n",
      "Trainable params: 291,937\n",
      "Non-trainable params: 0\n",
      "_________________________________________________________________\n"
     ]
    }
   ],
   "source": [
    "import keras\n",
    "\n",
    "model = keras.models.Sequential()\n",
    "model.add(layers.Embedding(max_features, 128, input_length=max_len, name='embed'))\n",
    "model.add(layers.Conv1D(32,7,activation='relu'))\n",
    "model.add(layers.MaxPooling1D(5))\n",
    "model.add(layers.Conv1D(32,7,activation='relu'))\n",
    "model.add(layers.GlobalMaxPooling1D())\n",
    "model.add(layers.Dense(1))\n",
    "model.summary()\n",
    "model.compile(optimizer='rmsprop', loss='binary_crossentropy',metrics=['acc'])"
   ]
  },
  {
   "cell_type": "code",
   "execution_count": 5,
   "metadata": {},
   "outputs": [
    {
     "name": "stdout",
     "output_type": "stream",
     "text": [
      "Train on 20000 samples, validate on 5000 samples\n",
      "Epoch 1/20\n",
      "20000/20000 [==============================] - 6s 315us/step - loss: 0.6005 - acc: 0.6837 - val_loss: 0.4371 - val_acc: 0.8254\n",
      "Epoch 2/20\n",
      "20000/20000 [==============================] - 4s 220us/step - loss: 0.4294 - acc: 0.8135 - val_loss: 0.4495 - val_acc: 0.8056\n",
      "Epoch 3/20\n",
      "20000/20000 [==============================] - 4s 221us/step - loss: 0.3904 - acc: 0.7713 - val_loss: 0.4414 - val_acc: 0.7898\n",
      "Epoch 4/20\n",
      "20000/20000 [==============================] - 4s 219us/step - loss: 0.3214 - acc: 0.7741 - val_loss: 0.5401 - val_acc: 0.7196\n",
      "Epoch 5/20\n",
      "20000/20000 [==============================] - 4s 225us/step - loss: 0.2927 - acc: 0.7108 - val_loss: 0.5523 - val_acc: 0.6636\n",
      "Epoch 6/20\n",
      "20000/20000 [==============================] - 4s 222us/step - loss: 0.2631 - acc: 0.6517 - val_loss: 0.6688 - val_acc: 0.5796\n",
      "Epoch 7/20\n",
      "20000/20000 [==============================] - 4s 222us/step - loss: 0.2113 - acc: 0.6034 - val_loss: 0.6621 - val_acc: 0.5814\n",
      "Epoch 8/20\n",
      "20000/20000 [==============================] - 4s 224us/step - loss: 0.1719 - acc: 0.6013 - val_loss: 0.8744 - val_acc: 0.4586\n",
      "Epoch 9/20\n",
      "20000/20000 [==============================] - 4s 221us/step - loss: 0.1567 - acc: 0.5313 - val_loss: 0.8296 - val_acc: 0.4292\n",
      "Epoch 10/20\n",
      "20000/20000 [==============================] - 4s 222us/step - loss: 0.1355 - acc: 0.4544 - val_loss: 0.8632 - val_acc: 0.4198\n",
      "Epoch 11/20\n",
      "20000/20000 [==============================] - 4s 221us/step - loss: 0.1154 - acc: 0.4066 - val_loss: 1.2652 - val_acc: 0.3302\n",
      "Epoch 12/20\n",
      "20000/20000 [==============================] - 4s 221us/step - loss: 0.1104 - acc: 0.3262 - val_loss: 1.0579 - val_acc: 0.3176\n",
      "Epoch 13/20\n",
      "20000/20000 [==============================] - 4s 222us/step - loss: 0.1070 - acc: 0.2710 - val_loss: 1.0582 - val_acc: 0.2954\n",
      "Epoch 14/20\n",
      "20000/20000 [==============================] - 4s 220us/step - loss: 0.1044 - acc: 0.2415 - val_loss: 1.0855 - val_acc: 0.2956\n",
      "Epoch 15/20\n",
      "20000/20000 [==============================] - 4s 221us/step - loss: 0.1041 - acc: 0.2191 - val_loss: 1.1317 - val_acc: 0.2612\n",
      "Epoch 16/20\n",
      "20000/20000 [==============================] - 4s 222us/step - loss: 0.1001 - acc: 0.1842 - val_loss: 1.1656 - val_acc: 0.2478\n",
      "Epoch 17/20\n",
      "20000/20000 [==============================] - 4s 221us/step - loss: 0.1081 - acc: 0.1820 - val_loss: 1.3945 - val_acc: 0.2324\n",
      "Epoch 18/20\n",
      "20000/20000 [==============================] - 4s 221us/step - loss: 0.0999 - acc: 0.1523 - val_loss: 1.2423 - val_acc: 0.2248\n",
      "Epoch 19/20\n",
      "20000/20000 [==============================] - 4s 221us/step - loss: 0.0997 - acc: 0.1304 - val_loss: 1.6386 - val_acc: 0.1964\n",
      "Epoch 20/20\n",
      "20000/20000 [==============================] - 4s 221us/step - loss: 0.0935 - acc: 0.1272 - val_loss: 1.3131 - val_acc: 0.2218\n"
     ]
    }
   ],
   "source": [
    "callbacks = [ keras.callbacks.TensorBoard(log_dir='my_log_dir', histogram_freq=1, embeddings_freq=1,)]\n",
    "history = model.fit(x_train, y_train, epochs=20, batch_size=128, validation_split=0.2,callbacks=callbacks)"
   ]
  },
  {
   "cell_type": "code",
   "execution_count": 5,
   "metadata": {},
   "outputs": [
    {
     "name": "stdout",
     "output_type": "stream",
     "text": [
      "_________________________________________________________________\n",
      "Layer (type)                 Output Shape              Param #   \n",
      "=================================================================\n",
      "separable_conv2d_19 (Separab (None, 62, 62, 32)        155       \n",
      "_________________________________________________________________\n",
      "separable_conv2d_20 (Separab (None, 60, 60, 64)        2400      \n",
      "_________________________________________________________________\n",
      "max_pooling2d_7 (MaxPooling2 (None, 30, 30, 64)        0         \n",
      "_________________________________________________________________\n",
      "separable_conv2d_21 (Separab (None, 28, 28, 64)        4736      \n",
      "_________________________________________________________________\n",
      "separable_conv2d_22 (Separab (None, 26, 26, 128)       8896      \n",
      "_________________________________________________________________\n",
      "max_pooling2d_8 (MaxPooling2 (None, 13, 13, 128)       0         \n",
      "_________________________________________________________________\n",
      "separable_conv2d_23 (Separab (None, 11, 11, 64)        9408      \n",
      "_________________________________________________________________\n",
      "separable_conv2d_24 (Separab (None, 9, 9, 128)         8896      \n",
      "_________________________________________________________________\n",
      "global_average_pooling2d_4 ( (None, 128)               0         \n",
      "_________________________________________________________________\n",
      "dense_7 (Dense)              (None, 32)                4128      \n",
      "_________________________________________________________________\n",
      "dense_8 (Dense)              (None, 10)                330       \n",
      "=================================================================\n",
      "Total params: 38,949\n",
      "Trainable params: 38,949\n",
      "Non-trainable params: 0\n",
      "_________________________________________________________________\n"
     ]
    }
   ],
   "source": [
    "# depthwise seaparable convolutions\n",
    "\n",
    "from keras.models import Sequential, Model\n",
    "from keras import layers\n",
    "\n",
    "height = 64\n",
    "width = 64\n",
    "channels = 3\n",
    "num_classes = 10\n",
    "\n",
    "model = Sequential()\n",
    "model.add(layers.SeparableConv2D(32, 3, activation='relu', input_shape=(height,width,channels,)))\n",
    "model.add(layers.SeparableConv2D(64,3,activation='relu'))\n",
    "model.add(layers.MaxPooling2D(2))\n",
    "\n",
    "model.add(layers.SeparableConv2D(64,3,activation='relu'))\n",
    "model.add(layers.SeparableConv2D(128,3,activation='relu'))\n",
    "model.add(layers.MaxPooling2D(2))\n",
    "\n",
    "model.add(layers.SeparableConv2D(64,3,activation='relu'))\n",
    "model.add(layers.SeparableConv2D(128,3,activation='relu'))\n",
    "model.add(layers.GlobalAveragePooling2D())\n",
    "\n",
    "model.add(layers.Dense(32, activation='relu'))\n",
    "model.add(layers.Dense(num_classes, activation='softmax'))\n",
    "\n",
    "model.compile(optimizer='rmsprop', loss='categorical_crossentropy')\n",
    "\n",
    "model.summary()"
   ]
  },
  {
   "cell_type": "code",
   "execution_count": null,
   "metadata": {},
   "outputs": [],
   "source": []
  }
 ],
 "metadata": {
  "kernelspec": {
   "display_name": "Python 3",
   "language": "python",
   "name": "python3"
  },
  "language_info": {
   "codemirror_mode": {
    "name": "ipython",
    "version": 3
   },
   "file_extension": ".py",
   "mimetype": "text/x-python",
   "name": "python",
   "nbconvert_exporter": "python",
   "pygments_lexer": "ipython3",
   "version": "3.5.2"
  }
 },
 "nbformat": 4,
 "nbformat_minor": 2
}
